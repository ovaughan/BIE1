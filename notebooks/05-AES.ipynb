{
 "cells": [
  {
   "cell_type": "markdown",
   "metadata": {},
   "source": [
    "# Encrypting AES BIE1"
   ]
  },
  {
   "cell_type": "markdown",
   "metadata": {},
   "source": [
    "### Bitcoin conventions"
   ]
  },
  {
   "cell_type": "code",
   "execution_count": 2,
   "metadata": {},
   "outputs": [],
   "source": [
    "import binascii\n",
    "import hashlib\n",
    "import ecdsa\n",
    "import codecs\n",
    "\n",
    "# secp256k1, http://www.oid-info.com/get/1.3.132.0.10\n",
    "p_ec = 0xFFFFFFFFFFFFFFFFFFFFFFFFFFFFFFFFFFFFFFFFFFFFFFFFFFFFFFFEFFFFFC2F\n",
    "r_ec = 0xFFFFFFFFFFFFFFFFFFFFFFFFFFFFFFFEBAAEDCE6AF48A03BBFD25E8CD0364141\n",
    "b_ec = 0x0000000000000000000000000000000000000000000000000000000000000007\n",
    "a_ec = 0x0000000000000000000000000000000000000000000000000000000000000000\n",
    "Gx = 0x79BE667EF9DCBBAC55A06295CE870B07029BFCDB2DCE28D959F2815B16F81798\n",
    "Gy = 0x483ada7726a3c4655da4fbfc0e1108a8fd17b448a68554199c47d08ffb10d4b8\n",
    "curve_secp256k1 = ecdsa.ellipticcurve.CurveFp(p_ec, a_ec, b_ec)\n",
    "generator_secp256k1 = ecdsa.ellipticcurve.Point(curve_secp256k1, Gx, Gy, r_ec)\n",
    "oid_secp256k1 = (1, 3, 132, 0, 10)\n",
    "SECP256k1 = ecdsa.curves.Curve(\"SECP256k1\", curve_secp256k1, generator_secp256k1, oid_secp256k1)"
   ]
  },
  {
   "cell_type": "markdown",
   "metadata": {},
   "source": [
    "### Establishing a shared secret"
   ]
  },
  {
   "cell_type": "code",
   "execution_count": 3,
   "metadata": {},
   "outputs": [],
   "source": [
    "SA = 68391376603652558019677085321245066310756998499824362348774548882158845001985\n",
    "PA = SA * generator_secp256k1\n",
    "\n",
    "SB = 95741376603652558019677085321245066310756998499824362348774548882158845001985\n",
    "PB = SB * generator_secp256k1"
   ]
  },
  {
   "cell_type": "code",
   "execution_count": 4,
   "metadata": {},
   "outputs": [],
   "source": [
    "# Shared secret\n",
    "\n",
    "SAB = SA * PB"
   ]
  },
  {
   "cell_type": "code",
   "execution_count": 5,
   "metadata": {},
   "outputs": [
    {
     "data": {
      "text/plain": [
       "True"
      ]
     },
     "execution_count": 5,
     "metadata": {},
     "output_type": "execute_result"
    }
   ],
   "source": [
    "# Check shared secrets are equal if calculated by either Alice or Bob\n",
    "\n",
    "(SA * PB) == (SB * PA)"
   ]
  },
  {
   "cell_type": "code",
   "execution_count": 6,
   "metadata": {},
   "outputs": [],
   "source": [
    "def get_point_pubkey(point_input):\n",
    "    if (point_input.y() % 2) == 1:\n",
    "        result = '03' + '%064x' % point_input.x()\n",
    "    else:\n",
    "        result = '02' + '%064x' % point_input.x()\n",
    "    return binascii.hexlify(codecs.decode(result, 'hex'))"
   ]
  },
  {
   "cell_type": "code",
   "execution_count": 7,
   "metadata": {},
   "outputs": [
    {
     "data": {
      "text/plain": [
       "'24547207253151602529617225665887624910292130993218504679930071992194063220891'"
      ]
     },
     "execution_count": 7,
     "metadata": {},
     "output_type": "execute_result"
    }
   ],
   "source": [
    "str(SAB.x())"
   ]
  },
  {
   "cell_type": "code",
   "execution_count": 8,
   "metadata": {},
   "outputs": [
    {
     "data": {
      "text/plain": [
       "b'0236453a194181e14a3333f9e284afefffc05eec8680e25c6bf5432aa53d65409b'"
      ]
     },
     "execution_count": 8,
     "metadata": {},
     "output_type": "execute_result"
    }
   ],
   "source": [
    "S = get_point_pubkey(SAB)\n",
    "S"
   ]
  },
  {
   "cell_type": "markdown",
   "metadata": {},
   "source": [
    "### Symmetric keys"
   ]
  },
  {
   "cell_type": "code",
   "execution_count": 9,
   "metadata": {},
   "outputs": [
    {
     "name": "stdout",
     "output_type": "stream",
     "text": [
      "b'V\\xe4\\xce~\\x93\\xa9\\x92\\x14\\xeb\\x81\\xf8\\xba\\xde\\x11\\xa0\\xdc\\xe9T\\xb1R\\r\\xb5\\xd8\\xb1\\'\\xba\\x91^?f\\x95\\xe4*o\\xcfv&\\xebX\"\\xf5yf\\xe6\\x8a\\xffe\\x9257\\xbf\\xa1N\\xd7R!\\xae\\x97b\\xc6\\xd4*6\\n'\n",
      "b'56e4ce7e93a99214eb81f8bade11a0dce954b1520db5d8b127ba915e3f6695e42a6fcf7626eb5822f57966e68aff65923537bfa14ed75221ae9762c6d42a360a'\n"
     ]
    }
   ],
   "source": [
    "# Base 64\n",
    "print(hashlib.sha512(S).digest())\n",
    "\n",
    "# Hex\n",
    "print(binascii.hexlify(hashlib.sha512(S).digest()))"
   ]
  },
  {
   "cell_type": "code",
   "execution_count": 10,
   "metadata": {},
   "outputs": [
    {
     "data": {
      "text/plain": [
       "b'V\\xe4\\xce~\\x93\\xa9\\x92\\x14\\xeb\\x81\\xf8\\xba\\xde\\x11\\xa0\\xdc\\xe9T\\xb1R\\r\\xb5\\xd8\\xb1\\'\\xba\\x91^?f\\x95\\xe4*o\\xcfv&\\xebX\"\\xf5yf\\xe6\\x8a\\xffe\\x9257\\xbf\\xa1N\\xd7R!\\xae\\x97b\\xc6\\xd4*6\\n'"
      ]
     },
     "execution_count": 10,
     "metadata": {},
     "output_type": "execute_result"
    }
   ],
   "source": [
    "hashlib.sha512(S).digest()"
   ]
  },
  {
   "cell_type": "code",
   "execution_count": 11,
   "metadata": {},
   "outputs": [
    {
     "data": {
      "text/plain": [
       "b'56e4ce7e93a99214eb81f8bade11a0dce954b1520db5d8b127ba915e3f6695e42a6fcf7626eb5822f57966e68aff65923537bfa14ed75221ae9762c6d42a360a'"
      ]
     },
     "execution_count": 11,
     "metadata": {},
     "output_type": "execute_result"
    }
   ],
   "source": [
    "binascii.hexlify(hashlib.sha512(S).digest())"
   ]
  },
  {
   "cell_type": "code",
   "execution_count": 116,
   "metadata": {},
   "outputs": [],
   "source": [
    "IV = hashlib.sha512(S).digest()[0:16]\n",
    "KAES = hashlib.sha512(S).digest()[16:32]\n",
    "KHMAC = hashlib.sha512(S).digest()[32:48]"
   ]
  },
  {
   "cell_type": "markdown",
   "metadata": {},
   "source": [
    "### Encrypt message"
   ]
  },
  {
   "cell_type": "code",
   "execution_count": 14,
   "metadata": {},
   "outputs": [],
   "source": [
    "from Crypto.Cipher import AES"
   ]
  },
  {
   "cell_type": "code",
   "execution_count": 58,
   "metadata": {},
   "outputs": [
    {
     "name": "stdout",
     "output_type": "stream",
     "text": [
      "b'The answer is no'\n",
      "b'54686520616e73776572206973206e6f'\n",
      "b'The answer is no'\n"
     ]
    }
   ],
   "source": [
    "# Encoding and decoding text\n",
    "\n",
    "print(codecs.ascii_encode('The answer is no')[0])\n",
    "print(binascii.hexlify(codecs.ascii_encode('The answer is no')[0]))\n",
    "print(binascii.unhexlify(binascii.hexlify(codecs.ascii_encode('The answer is no')[0])))"
   ]
  },
  {
   "cell_type": "code",
   "execution_count": 118,
   "metadata": {},
   "outputs": [
    {
     "name": "stdout",
     "output_type": "stream",
     "text": [
      "b\"\\xe9T\\xb1R\\r\\xb5\\xd8\\xb1'\\xba\\x91^?f\\x95\\xe4\"\n",
      "b'V\\xe4\\xce~\\x93\\xa9\\x92\\x14\\xeb\\x81\\xf8\\xba\\xde\\x11\\xa0\\xdc\\xc1=\\xefW\\xfe\\xc3\\xf6\\x8bl\\xd1\\x88\\xccnW\\xdf;'\n",
      "b\"\\xe9T\\xb1R\\r\\xb5\\xd8\\xb1'\\xba\\x91^?f\\x95\\xe4\"\n"
     ]
    }
   ],
   "source": [
    "# Encryption working with KAES and IV\n",
    "\n",
    "message = KAES\n",
    "print(message)\n",
    "aes = AES.new(KAES, AES.MODE_CBC, IV)\n",
    "ciphertext = IV + aes.encrypt(message)\n",
    "print(ciphertext)\n",
    "print(aes.decrypt(ciphertext)[16:])"
   ]
  },
  {
   "cell_type": "code",
   "execution_count": 129,
   "metadata": {},
   "outputs": [
    {
     "name": "stdout",
     "output_type": "stream",
     "text": [
      "b'V=E4=CE~=93=A9=92=14=EB=81=F8=BA=DE=11=A0=DC'\n",
      "b'V\\xe4\\xce~\\x93\\xa9\\x92\\x14\\xeb\\x81\\xf8\\xba\\xde\\x11\\xa0\\xdc'\n",
      "b'The answer is no'\n"
     ]
    }
   ],
   "source": [
    "print(binascii.b2a_qp(IV))\n",
    "print(binascii.a2b_qp(binascii.b2a_qp(IV)))\n",
    "\n",
    "print(binascii.a2b_qp(codecs.ascii_encode('The answer is no')[0]))"
   ]
  },
  {
   "cell_type": "code",
   "execution_count": 118,
   "metadata": {},
   "outputs": [
    {
     "name": "stdout",
     "output_type": "stream",
     "text": [
      "b\"\\xe9T\\xb1R\\r\\xb5\\xd8\\xb1'\\xba\\x91^?f\\x95\\xe4\"\n",
      "b'V\\xe4\\xce~\\x93\\xa9\\x92\\x14\\xeb\\x81\\xf8\\xba\\xde\\x11\\xa0\\xdc\\xc1=\\xefW\\xfe\\xc3\\xf6\\x8bl\\xd1\\x88\\xccnW\\xdf;'\n",
      "b\"\\xe9T\\xb1R\\r\\xb5\\xd8\\xb1'\\xba\\x91^?f\\x95\\xe4\"\n"
     ]
    }
   ],
   "source": [
    "# Encryption working with KAES and IV\n",
    "\n",
    "message = KAES\n",
    "print(message)\n",
    "aes = AES.new(KAES, AES.MODE_CBC, IV)\n",
    "ciphertext = IV + aes.encrypt(message)\n",
    "print(ciphertext)\n",
    "print(aes.decrypt(ciphertext)[16:])"
   ]
  },
  {
   "cell_type": "code",
   "execution_count": 135,
   "metadata": {},
   "outputs": [
    {
     "name": "stdout",
     "output_type": "stream",
     "text": [
      "b'Sixteen byte msg'\n",
      "b'V\\xe4\\xce~\\x93\\xa9\\x92\\x14\\xeb\\x81\\xf8\\xba\\xde\\x11\\xa0\\xdc\\x9b\\xe1:aE\\x1e\\xa2\\xf3\\xed\\xa7YH\\x08\\xab,\\x1b'\n",
      "b'Sixteen byte msg'\n"
     ]
    }
   ],
   "source": [
    "from Crypto import Random\n",
    "key = b'Sixteen byte key'\n",
    "iv = Random.new().read(AES.block_size)\n",
    "\n",
    "message = b'Sixteen byte msg'\n",
    "print(message)\n",
    "aes = AES.new(KAES, AES.MODE_CBC, IV)\n",
    "ciphertext = IV + aes.encrypt(message)\n",
    "print(ciphertext)\n",
    "print(aes.decrypt(ciphertext)[16:])"
   ]
  },
  {
   "cell_type": "code",
   "execution_count": 131,
   "metadata": {},
   "outputs": [
    {
     "data": {
      "text/plain": [
       "b'\\xf5D9\\xef\\x16\\xe5 \\x1bb|\\xd29p\\xcb\\x7f\\x1a'"
      ]
     },
     "execution_count": 131,
     "metadata": {},
     "output_type": "execute_result"
    }
   ],
   "source": [
    "iv"
   ]
  },
  {
   "cell_type": "markdown",
   "metadata": {},
   "source": [
    "## Working solution"
   ]
  },
  {
   "cell_type": "code",
   "execution_count": 151,
   "metadata": {},
   "outputs": [
    {
     "name": "stdout",
     "output_type": "stream",
     "text": [
      "b'The answer is no'\n",
      "b'54686520616e73776572206973206e6f'\n",
      "b'acf4eb9dba1920fcd598bb9669f20ae9'\n",
      "b'54686520616e73776572206973206e6f'\n",
      "b'The answer is no'\n"
     ]
    }
   ],
   "source": [
    "aes = AES.new(KAES, AES.MODE_CBC, IV)\n",
    "message = b'The answer is no'    # I think this is ascii encoded bits\n",
    "print(message)\n",
    "print(binascii.hexlify(message))\n",
    "ciphertext = aes.encrypt(message)\n",
    "print(binascii.hexlify(ciphertext))\n",
    "print(binascii.hexlify(aes.decrypt(IV + ciphertext)[16:]))\n",
    "print(aes.decrypt(IV + ciphertext)[16:])"
   ]
  },
  {
   "cell_type": "code",
   "execution_count": 149,
   "metadata": {},
   "outputs": [
    {
     "name": "stdout",
     "output_type": "stream",
     "text": [
      "b'54686520616e73776572206973206e6f'\n",
      "b'6d622ce583dee1c4618a026ced39dea07fd95e756af53a12f41869eda78e6dba'\n",
      "b'54686520616e73776572206973206e6f'\n"
     ]
    }
   ],
   "source": [
    "# Check that we could have encrypted the message directly\n",
    "\n",
    "aes = AES.new(KAES, AES.MODE_CBC, IV)\n",
    "message = b'54686520616e73776572206973206e6f'    # I think this is ascii encoded bits\n",
    "print(message)\n",
    "ciphertext = aes.encrypt(message)\n",
    "print(binascii.hexlify(ciphertext))\n",
    "print(aes.decrypt(IV + ciphertext)[16:])"
   ]
  },
  {
   "cell_type": "code",
   "execution_count": null,
   "metadata": {},
   "outputs": [],
   "source": []
  }
 ],
 "metadata": {
  "kernelspec": {
   "display_name": "Python 3",
   "language": "python",
   "name": "python3"
  },
  "language_info": {
   "codemirror_mode": {
    "name": "ipython",
    "version": 3
   },
   "file_extension": ".py",
   "mimetype": "text/x-python",
   "name": "python",
   "nbconvert_exporter": "python",
   "pygments_lexer": "ipython3",
   "version": "3.6.3"
  }
 },
 "nbformat": 4,
 "nbformat_minor": 2
}
