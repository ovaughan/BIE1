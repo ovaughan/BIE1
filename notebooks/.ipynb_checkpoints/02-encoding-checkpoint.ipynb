{
 "cells": [
  {
   "cell_type": "markdown",
   "metadata": {},
   "source": [
    "# Encoding\n",
    "\n",
    "Here we take an OP_RETURN payload from the Electrum BIE1 implementation and try to decode its constituent parts.\n",
    "\n",
    "Note: decoding refers to eg turning base64 into asii. It should not be confused with decrypting, which is another process entirely.\n",
    "\n",
    "We also decode the wallet private and public keys."
   ]
  },
  {
   "cell_type": "code",
   "execution_count": 1,
   "metadata": {},
   "outputs": [],
   "source": [
    "import binascii\n",
    "import hashlib\n",
    "import ecdsa\n",
    "import codecs\n",
    "\n",
    "from Crypto.Cipher import AES\n",
    "\n",
    "import base64\n",
    "import base58"
   ]
  },
  {
   "cell_type": "markdown",
   "metadata": {},
   "source": [
    "### Bitcoin elliptic curve conventions"
   ]
  },
  {
   "cell_type": "code",
   "execution_count": 2,
   "metadata": {},
   "outputs": [],
   "source": [
    "# secp256k1, http://www.oid-info.com/get/1.3.132.0.10\n",
    "p_ec = 0xFFFFFFFFFFFFFFFFFFFFFFFFFFFFFFFFFFFFFFFFFFFFFFFFFFFFFFFEFFFFFC2F\n",
    "r_ec = 0xFFFFFFFFFFFFFFFFFFFFFFFFFFFFFFFEBAAEDCE6AF48A03BBFD25E8CD0364141\n",
    "b_ec = 0x0000000000000000000000000000000000000000000000000000000000000007\n",
    "a_ec = 0x0000000000000000000000000000000000000000000000000000000000000000\n",
    "Gx = 0x79BE667EF9DCBBAC55A06295CE870B07029BFCDB2DCE28D959F2815B16F81798\n",
    "Gy = 0x483ada7726a3c4655da4fbfc0e1108a8fd17b448a68554199c47d08ffb10d4b8\n",
    "curve_secp256k1 = ecdsa.ellipticcurve.CurveFp(p_ec, a_ec, b_ec)\n",
    "generator_secp256k1 = ecdsa.ellipticcurve.Point(curve_secp256k1, Gx, Gy, r_ec)\n",
    "oid_secp256k1 = (1, 3, 132, 0, 10)\n",
    "SECP256k1 = ecdsa.curves.Curve(\"SECP256k1\", curve_secp256k1, generator_secp256k1, oid_secp256k1)"
   ]
  },
  {
   "cell_type": "markdown",
   "metadata": {},
   "source": [
    "### Decode Electrum payload"
   ]
  },
  {
   "cell_type": "code",
   "execution_count": 3,
   "metadata": {},
   "outputs": [
    {
     "name": "stdout",
     "output_type": "stream",
     "text": [
      "b'4249453103b392513f4bb63bab6e446c84480fafa5f38be8350e61b80a9c1a098a158937f4427212394f419ead718b412918a484f7baa613ec49c4d4e4dbd45109d97391e81e0fc9459d2a8a32c6bee78480c904a2bd37aee3b87319345acc42945d77e39d'\n"
     ]
    }
   ],
   "source": [
    "entire_package = 'QklFMQOzklE/S7Y7q25EbIRID6+l84voNQ5huAqcGgmKFYk39EJyEjlPQZ6tcYtBKRikhPe6phPsScTU5NvUUQnZc5HoHg/JRZ0qijLGvueEgMkEor03ruO4cxk0WsxClF13450='\n",
    "\n",
    "entire_package = binascii.hexlify(base64.b64decode(entire_package))\n",
    "\n",
    "print(entire_package)"
   ]
  },
  {
   "cell_type": "code",
   "execution_count": 4,
   "metadata": {},
   "outputs": [
    {
     "name": "stdout",
     "output_type": "stream",
     "text": [
      "b'42494531' in ascii is b'BIE1'\n",
      "K is b'03b392513f4bb63bab6e446c84480fafa5f38be8350e61b80a9c1a098a158937f4'\n",
      "ciphertext is b'427212394f419ead718b4129'\n",
      "HMAC is b'18a484f7baa613ec49c4d4e4'\n"
     ]
    }
   ],
   "source": [
    "# Split off protocol flag, ephemeral pub key, ciphertext and HMAC\n",
    "\n",
    "BIE1 = entire_package[:8]\n",
    "K = entire_package[8:74]             # 8 + 66 = 74  \n",
    "ciphertext = entire_package[74:98]   # 74 + 24 = 98\n",
    "HMAC = entire_package[98:122]         # 98 + 24 = 122\n",
    "\n",
    "print(BIE1, 'in ascii is', binascii.unhexlify(BIE1))\n",
    "print('K is', K)\n",
    "print('ciphertext is', ciphertext)\n",
    "print('HMAC is', HMAC)"
   ]
  },
  {
   "cell_type": "markdown",
   "metadata": {},
   "source": [
    "At present K is given as a compressed public key.\n",
    "\n",
    "We would now like to write key in decompressd format."
   ]
  },
  {
   "cell_type": "code",
   "execution_count": 5,
   "metadata": {},
   "outputs": [],
   "source": [
    "# Taken from https://stackoverflow.com/questions/43629265/deriving-an-ecdsa-uncompressed-public-key-from-a-compressed-one\n",
    "\n",
    "def pow_mod(x, y, z):\n",
    "    \"Calculate (x ** y) % z efficiently.\"\n",
    "    number = 1\n",
    "    while y:\n",
    "        if y & 1:\n",
    "            number = number * x % z\n",
    "        y >>= 1\n",
    "        x = x * x % z\n",
    "    return number\n",
    "\n",
    "# prime p = 2^256 - 2^32 - 2^9 - 2^8 - 2^7 - 2^6 - 2^4 - 1\n",
    "p = 0xfffffffffffffffffffffffffffffffffffffffffffffffffffffffefffffc2f"
   ]
  },
  {
   "cell_type": "code",
   "execution_count": 6,
   "metadata": {},
   "outputs": [
    {
     "name": "stdout",
     "output_type": "stream",
     "text": [
      "04b392513f4bb63bab6e446c84480fafa5f38be8350e61b80a9c1a098a158937f4383335171d29cc6387a5c18d5ccb57e859ff38f3fa1bb8e00475f093cadddfeb\n"
     ]
    }
   ],
   "source": [
    "# bitcoin's compressed public key of private key 99700726144837597339837499243820914618717618365214734329132998527433625976967\n",
    "compressed_key = K.decode(\"ascii\") \n",
    "\n",
    "y_parity = int(compressed_key[:2]) - 2\n",
    "x = int(compressed_key[2:], 16)\n",
    "\n",
    "a = (pow_mod(x, 3, p) + 7) % p\n",
    "y = pow_mod(a, (p+1)//4, p)\n",
    "\n",
    "if y % 2 != y_parity:\n",
    "    y = -y % p\n",
    "\n",
    "uncompressed_key = '04{:x}{:x}'.format(x, y)\n",
    "print(uncompressed_key) "
   ]
  },
  {
   "cell_type": "code",
   "execution_count": 7,
   "metadata": {},
   "outputs": [
    {
     "name": "stdout",
     "output_type": "stream",
     "text": [
      "(81222520315766445915033933156108856478292330375403547871433300150780990928884,25419995136673019914281218521069623169807792832170161614421324055184750272491)\n"
     ]
    }
   ],
   "source": [
    "# Turn uncompressed key into an elliptic curve point\n",
    "\n",
    "PA = ecdsa.ellipticcurve.Point(ecdsa.SECP256k1.curve, int(uncompressed_key[2:66], 16), int(uncompressed_key[66:130], 16))\n",
    "print(PA)"
   ]
  },
  {
   "cell_type": "markdown",
   "metadata": {},
   "source": [
    " ### Decode  keys from wallet"
   ]
  },
  {
   "cell_type": "markdown",
   "metadata": {},
   "source": [
    "Bob's private key and public key.\n",
    "\n",
    "I obtained this from my Electrum wallet"
   ]
  },
  {
   "cell_type": "code",
   "execution_count": 8,
   "metadata": {},
   "outputs": [
    {
     "name": "stdout",
     "output_type": "stream",
     "text": [
      "b'80dc6c9c7a71c025a50238e4ca4ac33443cb88eb368a1ac64db8149d854cf2408701af4c9599'\n",
      "b'03f1fda2e261389cca99c13d85e7c27549d1f59891519aa1c533eb794aa187f58c'\n"
     ]
    }
   ],
   "source": [
    "# The private key in wallet import format is in base64\n",
    "priv = binascii.hexlify(base58.b58decode('L4cBnoBky32Drn56STohahrd7hutuKuDD5MJFbSTS53U6sLoR2zC'))\n",
    "print(priv)                        \n",
    "\n",
    "# The public key is in hex\n",
    "pub = binascii.hexlify(codecs.decode('03f1fda2e261389cca99c13d85e7c27549d1f59891519aa1c533eb794aa187f58c', 'hex'))\n",
    "print(pub)"
   ]
  },
  {
   "cell_type": "code",
   "execution_count": 9,
   "metadata": {},
   "outputs": [
    {
     "name": "stdout",
     "output_type": "stream",
     "text": [
      "b'80dc6c9c7a71c025a50238e4ca4ac33443cb88eb368a1ac64db8149d854cf2408701af4c9599'\n",
      "b'80dc6c9c7a71c025a50238e4ca4ac33443cb88eb368a1ac64db8149d854cf2408701'\n",
      "b'dc6c9c7a71c025a50238e4ca4ac33443cb88eb368a1ac64db8149d854cf2408701'\n",
      "private key = b'dc6c9c7a71c025a50238e4ca4ac33443cb88eb368a1ac64db8149d854cf24087'\n"
     ]
    }
   ],
   "source": [
    "# Private key is in wallet import format\n",
    "# https://en.bitcoin.it/wiki/Wallet_import_format\n",
    "# Here we turn it into an actual private key encoded in hex format\n",
    "\n",
    "print(priv) \n",
    "priv = priv[:-8]  #  remove last 4 bytes which is a checksum\n",
    "print(priv)\n",
    "priv = priv[2:]   # remove first byte which is mainnet/testnet flag\n",
    "print(priv)\n",
    "priv = priv[:-2]  #  remove last bytes which is a compressed public key flag\n",
    "\n",
    "\n",
    "print('private key =', priv)"
   ]
  },
  {
   "cell_type": "code",
   "execution_count": 10,
   "metadata": {},
   "outputs": [],
   "source": [
    "def get_point_pubkey(point_input):\n",
    "    if (point_input.y() % 2) == 1:\n",
    "        result = '03' + '%064x' % point_input.x()\n",
    "    else:\n",
    "        result = '02' + '%064x' % point_input.x()\n",
    "    return binascii.hexlify(codecs.decode(result, 'hex'))"
   ]
  },
  {
   "cell_type": "code",
   "execution_count": 11,
   "metadata": {},
   "outputs": [
    {
     "name": "stdout",
     "output_type": "stream",
     "text": [
      "Private key as integer = 99700726144837597339837499243820914618717618365214734329132998527433625976967\n",
      "Compressed public key = b'03f1fda2e261389cca99c13d85e7c27549d1f59891519aa1c533eb794aa187f58c'\n"
     ]
    }
   ],
   "source": [
    "#SB = int.from_bytes(priv, \"little\")  \n",
    "SB = int(priv, 16)\n",
    "print('Private key as integer =', SB)\n",
    "\n",
    "PB = SB * generator_secp256k1\n",
    "\n",
    "CompPB = get_point_pubkey(PB)\n",
    "\n",
    "print('Compressed public key =', CompPB)"
   ]
  },
  {
   "cell_type": "code",
   "execution_count": 12,
   "metadata": {},
   "outputs": [
    {
     "data": {
      "text/plain": [
       "True"
      ]
     },
     "execution_count": 12,
     "metadata": {},
     "output_type": "execute_result"
    }
   ],
   "source": [
    "# Check our calculation of the compressed public key is the same as the wallet calculation\n",
    "\n",
    "CompPB == pub"
   ]
  },
  {
   "cell_type": "code",
   "execution_count": null,
   "metadata": {},
   "outputs": [],
   "source": []
  }
 ],
 "metadata": {
  "kernelspec": {
   "display_name": "Python 3",
   "language": "python",
   "name": "python3"
  },
  "language_info": {
   "codemirror_mode": {
    "name": "ipython",
    "version": 3
   },
   "file_extension": ".py",
   "mimetype": "text/x-python",
   "name": "python",
   "nbconvert_exporter": "python",
   "pygments_lexer": "ipython3",
   "version": "3.7.3"
  }
 },
 "nbformat": 4,
 "nbformat_minor": 2
}
