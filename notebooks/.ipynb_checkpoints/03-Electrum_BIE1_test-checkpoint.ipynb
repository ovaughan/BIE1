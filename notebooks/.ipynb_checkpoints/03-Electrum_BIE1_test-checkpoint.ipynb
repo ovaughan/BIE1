{
 "cells": [
  {
   "cell_type": "markdown",
   "metadata": {},
   "source": [
    "# Encrypting AES BIE1"
   ]
  },
  {
   "cell_type": "markdown",
   "metadata": {},
   "source": [
    "### Bitcoin elliptic curve conventions"
   ]
  },
  {
   "cell_type": "code",
   "execution_count": 1,
   "metadata": {},
   "outputs": [],
   "source": [
    "import binascii\n",
    "import hashlib\n",
    "import ecdsa\n",
    "import codecs\n",
    "\n",
    "from Crypto.Cipher import AES\n",
    "\n",
    "import base64\n",
    "import base58"
   ]
  },
  {
   "cell_type": "code",
   "execution_count": 2,
   "metadata": {},
   "outputs": [],
   "source": [
    "# secp256k1, http://www.oid-info.com/get/1.3.132.0.10\n",
    "p_ec = 0xFFFFFFFFFFFFFFFFFFFFFFFFFFFFFFFFFFFFFFFFFFFFFFFFFFFFFFFEFFFFFC2F\n",
    "r_ec = 0xFFFFFFFFFFFFFFFFFFFFFFFFFFFFFFFEBAAEDCE6AF48A03BBFD25E8CD0364141\n",
    "b_ec = 0x0000000000000000000000000000000000000000000000000000000000000007\n",
    "a_ec = 0x0000000000000000000000000000000000000000000000000000000000000000\n",
    "Gx = 0x79BE667EF9DCBBAC55A06295CE870B07029BFCDB2DCE28D959F2815B16F81798\n",
    "Gy = 0x483ada7726a3c4655da4fbfc0e1108a8fd17b448a68554199c47d08ffb10d4b8\n",
    "curve_secp256k1 = ecdsa.ellipticcurve.CurveFp(p_ec, a_ec, b_ec)\n",
    "generator_secp256k1 = ecdsa.ellipticcurve.Point(curve_secp256k1, Gx, Gy, r_ec)\n",
    "oid_secp256k1 = (1, 3, 132, 0, 10)\n",
    "SECP256k1 = ecdsa.curves.Curve(\"SECP256k1\", curve_secp256k1, generator_secp256k1, oid_secp256k1)"
   ]
  },
  {
   "cell_type": "code",
   "execution_count": 3,
   "metadata": {},
   "outputs": [],
   "source": [
    "def get_point_pubkey(point_input):\n",
    "    if (point_input.y() % 2) == 1:\n",
    "        result = '03' + '%064x' % point_input.x()\n",
    "    else:\n",
    "        result = '02' + '%064x' % point_input.x()\n",
    "    return binascii.hexlify(codecs.decode(result, 'hex'))"
   ]
  },
  {
   "cell_type": "markdown",
   "metadata": {},
   "source": [
    "# Electrum test"
   ]
  },
  {
   "cell_type": "markdown",
   "metadata": {},
   "source": [
    "### Alice and Bob private and public keys"
   ]
  },
  {
   "cell_type": "code",
   "execution_count": 4,
   "metadata": {},
   "outputs": [
    {
     "name": "stdout",
     "output_type": "stream",
     "text": [
      "Alice public key = (81222520315766445915033933156108856478292330375403547871433300150780990928884,25419995136673019914281218521069623169807792832170161614421324055184750272491)\n",
      "Alice compressed public key = b'03b392513f4bb63bab6e446c84480fafa5f38be8350e61b80a9c1a098a158937f4'\n"
     ]
    }
   ],
   "source": [
    "PA = ecdsa.ellipticcurve.Point(ecdsa.SECP256k1.curve, \\\n",
    "                               81222520315766445915033933156108856478292330375403547871433300150780990928884, \\\n",
    "                               25419995136673019914281218521069623169807792832170161614421324055184750272491, 10)\n",
    "print('Alice public key =', PA)\n",
    "\n",
    "CompPA = get_point_pubkey(PA)\n",
    "print('Alice compressed public key =', CompPA)"
   ]
  },
  {
   "cell_type": "code",
   "execution_count": 5,
   "metadata": {},
   "outputs": [
    {
     "name": "stdout",
     "output_type": "stream",
     "text": [
      "Bob private key = 99700726144837597339837499243820914618717618365214734329132998527433625976967\n",
      "Bob public key = (109455533002050838990465911673612665240235545204278096587626452012943280698764,44884149155407838069601222450098554169901247813915580764758522129377407158301)\n"
     ]
    }
   ],
   "source": [
    "SB = 99700726144837597339837499243820914618717618365214734329132998527433625976967\n",
    "print('Bob private key =', SB)\n",
    "\n",
    "PB = SB * generator_secp256k1\n",
    "print('Bob public key =', PB)"
   ]
  },
  {
   "cell_type": "markdown",
   "metadata": {},
   "source": [
    "### Decode Electrum payload"
   ]
  },
  {
   "cell_type": "code",
   "execution_count": 6,
   "metadata": {},
   "outputs": [
    {
     "name": "stdout",
     "output_type": "stream",
     "text": [
      "b'4249453103b392513f4bb63bab6e446c84480fafa5f38be8350e61b80a9c1a098a158937f4427212394f419ead718b412918a484f7baa613ec49c4d4e4dbd45109d97391e81e0fc9459d2a8a32c6bee78480c904a2bd37aee3b87319345acc42945d77e39d'\n"
     ]
    }
   ],
   "source": [
    "entire_package = 'QklFMQOzklE/S7Y7q25EbIRID6+l84voNQ5huAqcGgmKFYk39EJyEjlPQZ6tcYtBKRikhPe6phPsScTU5NvUUQnZc5HoHg/JRZ0qijLGvueEgMkEor03ruO4cxk0WsxClF13450='\n",
    "\n",
    "entire_package = binascii.hexlify(base64.b64decode(entire_package))\n",
    "\n",
    "print(entire_package)"
   ]
  },
  {
   "cell_type": "code",
   "execution_count": 7,
   "metadata": {},
   "outputs": [
    {
     "name": "stdout",
     "output_type": "stream",
     "text": [
      "b'42494531' in ascii = b'BIE1'\n",
      "K = b'03b392513f4bb63bab6e446c84480fafa5f38be8350e61b80a9c1a098a158937f4'\n",
      "ciphertext = b'427212394f419ead718b412918a484f7baa613ec49c4d4e4dbd45109d97391e81e0fc9459d2a8a32c6bee78480c904a2bd37aee3b87319345acc42945d77e39d'\n",
      "HMAC = b'bd37aee3b87319345acc42945d77e39d'\n"
     ]
    }
   ],
   "source": [
    "# Split off protocol flag, ephemeral pub key, ciphertext and HMAC\n",
    "\n",
    "BIE1 = entire_package[:8]\n",
    "K = entire_package[8:74]             # 8 + 66 = 74  \n",
    "ciphertext = entire_package[74:]\n",
    "HMAC = entire_package[-32:]        \n",
    "\n",
    "print(BIE1, 'in ascii =', binascii.unhexlify(BIE1))\n",
    "print('K =', K)\n",
    "print('ciphertext =', ciphertext)\n",
    "print('HMAC =', HMAC)"
   ]
  },
  {
   "cell_type": "code",
   "execution_count": 8,
   "metadata": {},
   "outputs": [
    {
     "data": {
      "text/plain": [
       "True"
      ]
     },
     "execution_count": 8,
     "metadata": {},
     "output_type": "execute_result"
    }
   ],
   "source": [
    "# Check that K is exactly equal to Alice's public key\n",
    "\n",
    "CompPA == K"
   ]
  },
  {
   "cell_type": "markdown",
   "metadata": {},
   "source": [
    "### Shared data"
   ]
  },
  {
   "cell_type": "code",
   "execution_count": 9,
   "metadata": {},
   "outputs": [],
   "source": [
    "SAB = SB * PA\n",
    "S = get_point_pubkey(SAB)"
   ]
  },
  {
   "cell_type": "code",
   "execution_count": 10,
   "metadata": {},
   "outputs": [
    {
     "data": {
      "text/plain": [
       "b'02abf18eb5c4c29e54132c95af5192d8c0196c52244f5faf961bd109e9f9a7e332'"
      ]
     },
     "execution_count": 10,
     "metadata": {},
     "output_type": "execute_result"
    }
   ],
   "source": [
    "S"
   ]
  },
  {
   "cell_type": "code",
   "execution_count": 11,
   "metadata": {},
   "outputs": [],
   "source": [
    "IV = hashlib.sha512(S).digest()[0:16]\n",
    "KAES = hashlib.sha512(S).digest()[16:32]\n",
    "KHMAC = hashlib.sha512(S).digest()[32:48]"
   ]
  },
  {
   "cell_type": "code",
   "execution_count": 12,
   "metadata": {},
   "outputs": [
    {
     "name": "stdout",
     "output_type": "stream",
     "text": [
      "IV =  b'fe37fc12cd9fe7130f113128b66ca254'\n"
     ]
    }
   ],
   "source": [
    "print('IV = ', binascii.hexlify(IV))"
   ]
  },
  {
   "cell_type": "code",
   "execution_count": 13,
   "metadata": {},
   "outputs": [
    {
     "name": "stdout",
     "output_type": "stream",
     "text": [
      "b'\\xfe7\\xfc\\x12\\xcd\\x9f\\xe7\\x13\\x0f\\x111(\\xb6l\\xa2T(\\xbb\\x10\\t\\xf6m\\xf3a.\\x1b\\x04\\x99\\x87V]\\xe9\\xb9\"\\xa1\\x8d/_\\xc9\\x10z\\xc9\\x0f\\x8c\\x9ba7C\\xd1f\\xd9\\xe6Tx\\xb3X\\xb9-\\x96\\x97kz\\x956'\n",
      "b'\\xfe7\\xfc\\x12\\xcd\\x9f\\xe7\\x13\\x0f\\x111(\\xb6l\\xa2T'\n",
      "b'(\\xbb\\x10\\t\\xf6m\\xf3a.\\x1b\\x04\\x99\\x87V]\\xe9'\n",
      "b'\\xb9\"\\xa1\\x8d/_\\xc9\\x10z\\xc9\\x0f\\x8c\\x9ba7C'\n"
     ]
    }
   ],
   "source": [
    "print(hashlib.sha512(S).digest())\n",
    "print(IV)\n",
    "print(KAES)\n",
    "print(KHMAC)"
   ]
  },
  {
   "cell_type": "markdown",
   "metadata": {},
   "source": [
    "### Encrypt"
   ]
  },
  {
   "cell_type": "code",
   "execution_count": 14,
   "metadata": {},
   "outputs": [
    {
     "name": "stdout",
     "output_type": "stream",
     "text": [
      "b'The answer is no'\n",
      "plaintext = b'54686520616e73776572206973206e6f'\n",
      "ciphertext = b'0903f7600eac4b06d8ec04bbb40fe239'\n"
     ]
    }
   ],
   "source": [
    "aes = AES.new(KAES, AES.MODE_CBC, IV)\n",
    "\n",
    "plaintext = b'The answer is no'    \n",
    "print(plaintext)\n",
    "print('plaintext =', binascii.hexlify(plaintext))\n",
    "ciphertext = aes.encrypt(plaintext)\n",
    "print('ciphertext =', binascii.hexlify(ciphertext))"
   ]
  },
  {
   "cell_type": "markdown",
   "metadata": {},
   "source": [
    "This does not match the ciphertext in Electrum"
   ]
  },
  {
   "cell_type": "code",
   "execution_count": null,
   "metadata": {},
   "outputs": [],
   "source": []
  }
 ],
 "metadata": {
  "kernelspec": {
   "display_name": "Python 3",
   "language": "python",
   "name": "python3"
  },
  "language_info": {
   "codemirror_mode": {
    "name": "ipython",
    "version": 3
   },
   "file_extension": ".py",
   "mimetype": "text/x-python",
   "name": "python",
   "nbconvert_exporter": "python",
   "pygments_lexer": "ipython3",
   "version": "3.7.3"
  }
 },
 "nbformat": 4,
 "nbformat_minor": 2
}
