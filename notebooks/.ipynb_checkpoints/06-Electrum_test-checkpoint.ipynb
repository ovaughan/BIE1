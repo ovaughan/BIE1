{
 "cells": [
  {
   "cell_type": "markdown",
   "metadata": {},
   "source": [
    "# Encrypting AES BIE1"
   ]
  },
  {
   "cell_type": "markdown",
   "metadata": {},
   "source": [
    "### Bitcoin elliptic curve conventions"
   ]
  },
  {
   "cell_type": "code",
   "execution_count": 4,
   "metadata": {},
   "outputs": [],
   "source": [
    "import binascii\n",
    "import hashlib\n",
    "import ecdsa\n",
    "import codecs\n",
    "\n",
    "from Crypto.Cipher import AES\n",
    "\n",
    "import base64\n",
    "import base58"
   ]
  },
  {
   "cell_type": "code",
   "execution_count": 2,
   "metadata": {},
   "outputs": [],
   "source": [
    "# secp256k1, http://www.oid-info.com/get/1.3.132.0.10\n",
    "p_ec = 0xFFFFFFFFFFFFFFFFFFFFFFFFFFFFFFFFFFFFFFFFFFFFFFFFFFFFFFFEFFFFFC2F\n",
    "r_ec = 0xFFFFFFFFFFFFFFFFFFFFFFFFFFFFFFFEBAAEDCE6AF48A03BBFD25E8CD0364141\n",
    "b_ec = 0x0000000000000000000000000000000000000000000000000000000000000007\n",
    "a_ec = 0x0000000000000000000000000000000000000000000000000000000000000000\n",
    "Gx = 0x79BE667EF9DCBBAC55A06295CE870B07029BFCDB2DCE28D959F2815B16F81798\n",
    "Gy = 0x483ada7726a3c4655da4fbfc0e1108a8fd17b448a68554199c47d08ffb10d4b8\n",
    "curve_secp256k1 = ecdsa.ellipticcurve.CurveFp(p_ec, a_ec, b_ec)\n",
    "generator_secp256k1 = ecdsa.ellipticcurve.Point(curve_secp256k1, Gx, Gy, r_ec)\n",
    "oid_secp256k1 = (1, 3, 132, 0, 10)\n",
    "SECP256k1 = ecdsa.curves.Curve(\"SECP256k1\", curve_secp256k1, generator_secp256k1, oid_secp256k1)"
   ]
  },
  {
   "cell_type": "markdown",
   "metadata": {},
   "source": [
    "# Electrum test"
   ]
  },
  {
   "cell_type": "code",
   "execution_count": 160,
   "metadata": {},
   "outputs": [],
   "source": [
    "import base64\n",
    "import base58"
   ]
  },
  {
   "cell_type": "markdown",
   "metadata": {},
   "source": [
    "### Decode Electrum ciphertext"
   ]
  },
  {
   "cell_type": "code",
   "execution_count": 5,
   "metadata": {},
   "outputs": [
    {
     "name": "stdout",
     "output_type": "stream",
     "text": [
      "b'4249453103b392513f4bb63bab6e446c84480fafa5f38be8350e61b80a9c1a098a158937f4427212394f419ead718b412918a484f7baa613ec49c4d4e4dbd45109d97391e81e0fc9459d2a8a32c6bee78480c904a2bd37aee3b87319345acc42945d77e39d'\n"
     ]
    }
   ],
   "source": [
    "entire_package = 'QklFMQOzklE/S7Y7q25EbIRID6+l84voNQ5huAqcGgmKFYk39EJyEjlPQZ6tcYtBKRikhPe6phPsScTU5NvUUQnZc5HoHg/JRZ0qijLGvueEgMkEor03ruO4cxk0WsxClF13450='\n",
    "\n",
    "entire_package = binascii.hexlify(base64.b64decode(entire_package))\n",
    "\n",
    "print(entire_package)"
   ]
  },
  {
   "cell_type": "code",
   "execution_count": 6,
   "metadata": {},
   "outputs": [
    {
     "name": "stdout",
     "output_type": "stream",
     "text": [
      "b'42494531' in ascii is b'BIE1'\n",
      "K is b'03b392513f4bb63bab6e446c84480fafa5f38be8350e61b80a9c1a098a158937f4'\n",
      "ciphertext is b'427212394f419ead718b4129'\n",
      "HMAC is b'18a484f7baa613ec49c4d4e4'\n"
     ]
    }
   ],
   "source": [
    "# Split off protocol flag, ephemeral pub key, ciphertext and HMAC\n",
    "\n",
    "BIE1 = entire_package[:8]\n",
    "K = entire_package[8:74]             # 8 + 66 = 74  \n",
    "ciphertext = entire_package[74:98]   # 74 + 24 = 98\n",
    "HMAC = entire_package[98:122]         # 98 + 24 = 122\n",
    "\n",
    "print(BIE1, 'in ascii is', binascii.unhexlify(BIE1))\n",
    "print('K is', K)\n",
    "print('ciphertext is', ciphertext)\n",
    "print('HMAC is', HMAC)"
   ]
  },
  {
   "cell_type": "markdown",
   "metadata": {},
   "source": [
    " ### Import  keys"
   ]
  },
  {
   "cell_type": "markdown",
   "metadata": {},
   "source": [
    "Bob's private key'"
   ]
  },
  {
   "cell_type": "code",
   "execution_count": 7,
   "metadata": {},
   "outputs": [
    {
     "name": "stdout",
     "output_type": "stream",
     "text": [
      "b'2f87019e8064cb7d83ae7e7a493a216a1addee1badb8ab830f930915b4934b9dd4eac2e8476cc2'\n",
      "b'03f1fda2e261389cca99c13d85e7c27549d1f59891519aa1c533eb794aa187f58c'\n"
     ]
    }
   ],
   "source": [
    "priv = binascii.hexlify(base64.b64decode('L4cBnoBky32Drn56STohahrd7hutuKuDD5MJFbSTS53U6sLoR2zC'))\n",
    "print(priv)                        \n",
    "\n",
    "pub = binascii.hexlify(codecs.decode('03f1fda2e261389cca99c13d85e7c27549d1f59891519aa1c533eb794aa187f58c', 'hex'))\n",
    "print(pub)"
   ]
  },
  {
   "cell_type": "code",
   "execution_count": 8,
   "metadata": {},
   "outputs": [
    {
     "name": "stdout",
     "output_type": "stream",
     "text": [
      "b'80dc6c9c7a71c025a50238e4ca4ac33443cb88eb368a1ac64db8149d854cf2408701af4c9599'\n",
      "b'80dc6c9c7a71c025a50238e4ca4ac33443cb88eb368a1ac64db8149d854cf2408701'\n",
      "b'dc6c9c7a71c025a50238e4ca4ac33443cb88eb368a1ac64db8149d854cf2408701'\n",
      "b'dc6c9c7a71c025a50238e4ca4ac33443cb88eb368a1ac64db8149d854cf24087'\n",
      "64\n"
     ]
    }
   ],
   "source": [
    "# Private key is in wallet import format\n",
    "# https://en.bitcoin.it/wiki/Wallet_import_format\n",
    "\n",
    "priv = binascii.hexlify(base58.b58decode('L4cBnoBky32Drn56STohahrd7hutuKuDD5MJFbSTS53U6sLoR2zC'))\n",
    "print(priv) \n",
    "priv = priv[:-8]  #  remove last 4 bytes which is a checksum\n",
    "print(priv)\n",
    "priv = priv[2:]   # remove first byte which is mainnet/testnet flag\n",
    "print(priv)\n",
    "priv = priv[:-2]  #  remove last bytes which is a compressed public key flag\n",
    "print(priv)\n",
    "print(len(priv))"
   ]
  },
  {
   "cell_type": "code",
   "execution_count": 10,
   "metadata": {},
   "outputs": [],
   "source": [
    "def get_point_pubkey(point_input):\n",
    "    if (point_input.y() % 2) == 1:\n",
    "        result = '03' + '%064x' % point_input.x()\n",
    "    else:\n",
    "        result = '02' + '%064x' % point_input.x()\n",
    "    return binascii.hexlify(codecs.decode(result, 'hex'))"
   ]
  },
  {
   "cell_type": "code",
   "execution_count": 11,
   "metadata": {},
   "outputs": [
    {
     "name": "stdout",
     "output_type": "stream",
     "text": [
      "99700726144837597339837499243820914618717618365214734329132998527433625976967\n",
      "b'03f1fda2e261389cca99c13d85e7c27549d1f59891519aa1c533eb794aa187f58c'\n"
     ]
    }
   ],
   "source": [
    "#SB = int.from_bytes(priv, \"little\")  \n",
    "SB = int(priv, 16)\n",
    "print(SB)\n",
    "\n",
    "PB = SB * generator_secp256k1\n",
    "\n",
    "CompPB = get_point_pubkey(PB)\n",
    "\n",
    "print(CompPB)"
   ]
  },
  {
   "cell_type": "markdown",
   "metadata": {},
   "source": [
    "Ephemeral public key created by alice"
   ]
  },
  {
   "cell_type": "code",
   "execution_count": 12,
   "metadata": {},
   "outputs": [
    {
     "data": {
      "text/plain": [
       "b'03b392513f4bb63bab6e446c84480fafa5f38be8350e61b80a9c1a098a158937f4'"
      ]
     },
     "execution_count": 12,
     "metadata": {},
     "output_type": "execute_result"
    }
   ],
   "source": [
    "K"
   ]
  },
  {
   "cell_type": "code",
   "execution_count": 13,
   "metadata": {},
   "outputs": [
    {
     "name": "stdout",
     "output_type": "stream",
     "text": [
      "04b392513f4bb63bab6e446c84480fafa5f38be8350e61b80a9c1a098a158937f4383335171d29cc6387a5c18d5ccb57e859ff38f3fa1bb8e00475f093cadddfeb\n"
     ]
    }
   ],
   "source": [
    "# Taken from https://stackoverflow.com/questions/43629265/deriving-an-ecdsa-uncompressed-public-key-from-a-compressed-one\n",
    "\n",
    "def pow_mod(x, y, z):\n",
    "    \"Calculate (x ** y) % z efficiently.\"\n",
    "    number = 1\n",
    "    while y:\n",
    "        if y & 1:\n",
    "            number = number * x % z\n",
    "        y >>= 1\n",
    "        x = x * x % z\n",
    "    return number\n",
    "\n",
    "# prime p = 2^256 - 2^32 - 2^9 - 2^8 - 2^7 - 2^6 - 2^4 - 1\n",
    "p = 0xfffffffffffffffffffffffffffffffffffffffffffffffffffffffefffffc2f\n",
    "\n",
    "# bitcoin's compressed public key of private key 99700726144837597339837499243820914618717618365214734329132998527433625976967\n",
    "compressed_key = '03b392513f4bb63bab6e446c84480fafa5f38be8350e61b80a9c1a098a158937f4'\n",
    "\n",
    "y_parity = int(compressed_key[:2]) - 2\n",
    "x = int(compressed_key[2:], 16)\n",
    "\n",
    "a = (pow_mod(x, 3, p) + 7) % p\n",
    "y = pow_mod(a, (p+1)//4, p)\n",
    "\n",
    "if y % 2 != y_parity:\n",
    "    y = -y % p\n",
    "\n",
    "uncompressed_key = '04{:x}{:x}'.format(x, y)\n",
    "print(uncompressed_key) "
   ]
  },
  {
   "cell_type": "code",
   "execution_count": 14,
   "metadata": {},
   "outputs": [],
   "source": [
    "PA = ecdsa.ellipticcurve.Point(ecdsa.SECP256k1.curve, int(uncompressed_key[2:66], 16), int(uncompressed_key[66:130], 16))"
   ]
  },
  {
   "cell_type": "markdown",
   "metadata": {},
   "source": [
    "Shared data"
   ]
  },
  {
   "cell_type": "code",
   "execution_count": 15,
   "metadata": {},
   "outputs": [
    {
     "name": "stdout",
     "output_type": "stream",
     "text": [
      "99700726144837597339837499243820914618717618365214734329132998527433625976967\n"
     ]
    }
   ],
   "source": [
    "print(SB)"
   ]
  },
  {
   "cell_type": "code",
   "execution_count": 16,
   "metadata": {},
   "outputs": [],
   "source": [
    "SAB = SB * PA\n",
    "S = get_point_pubkey(SAB)"
   ]
  },
  {
   "cell_type": "code",
   "execution_count": 17,
   "metadata": {},
   "outputs": [],
   "source": [
    "IV = hashlib.sha512(S).digest()[0:16]\n",
    "KAES = hashlib.sha512(S).digest()[16:32]\n",
    "KHMAC = hashlib.sha512(S).digest()[32:48]"
   ]
  },
  {
   "cell_type": "markdown",
   "metadata": {},
   "source": [
    "Encrypt"
   ]
  },
  {
   "cell_type": "code",
   "execution_count": 18,
   "metadata": {},
   "outputs": [
    {
     "name": "stdout",
     "output_type": "stream",
     "text": [
      "b'The answer is no'\n",
      "b'54686520616e73776572206973206e6f'\n",
      "b'6a98d4e90fa40c48cbe709853c9b0628'\n"
     ]
    }
   ],
   "source": [
    "aes = AES.new(KAES, AES.MODE_CBC, IV)\n",
    "message = b'The answer is no'    # I think this is ascii encoded bits\n",
    "print(message)\n",
    "print(binascii.hexlify(message))\n",
    "ciphertext = aes.encrypt(message)\n",
    "print(binascii.hexlify(ciphertext))"
   ]
  },
  {
   "cell_type": "code",
   "execution_count": null,
   "metadata": {},
   "outputs": [],
   "source": []
  }
 ],
 "metadata": {
  "kernelspec": {
   "display_name": "Python 3",
   "language": "python",
   "name": "python3"
  },
  "language_info": {
   "codemirror_mode": {
    "name": "ipython",
    "version": 3
   },
   "file_extension": ".py",
   "mimetype": "text/x-python",
   "name": "python",
   "nbconvert_exporter": "python",
   "pygments_lexer": "ipython3",
   "version": "3.6.5"
  }
 },
 "nbformat": 4,
 "nbformat_minor": 2
}
